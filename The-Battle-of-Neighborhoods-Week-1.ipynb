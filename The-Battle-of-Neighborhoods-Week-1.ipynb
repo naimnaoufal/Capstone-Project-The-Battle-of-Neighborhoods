{
 "cells": [
  {
   "cell_type": "markdown",
   "metadata": {
    "collapsed": true
   },
   "source": [
    "<h1 align=center><font size = 5>Capstone Project - The Battle of Neighborhoods (Week 1)</font></h1>"
   ]
  },
  {
   "cell_type": "markdown",
   "metadata": {},
   "source": [
    "# 1. Business Problem\n",
    "\n",
    "Paris is the French capital and most interesting city of France. There are 2,138,551 residents in an area of 105,7 square kilometres (40,7 square miles) [1].\n",
    "\n",
    "According to the Economist Intelligence Unit Worldwide Cost of Living Survey in 2019, Paris was the second most expensive city in the world, after Singapore, Osaka, Hong Kong, and New York, and ahead of Zürich, Tokyo, and Los Angeles [2].\n",
    "\n",
    "Indeed, we can found a huge number of restaurants which represents all types of cuisines in Paris. As you see from the above figures, **Paris** is one of the most interesting city to open a Moroccan restaurant. \n",
    "\n",
    "Concerning to the investors, we expect from them to prefer the districts in which there is a good community of the Arab's restaurant or Moroccan restaurant and the type of business they want to install is less intense.\n",
    "\n",
    "Our problem is that there are several phases before proposing to the investors, for instance, \n",
    "\n",
    "+ to obtain the information of the most famous venues in Paris, \n",
    "+ to preprocessing the data (to clean, to normalize), \n",
    "+ to explore the preprocessed data,\n",
    "+ to cluster the districts based on the top 10 venues for each district.\n",
    "\n",
    "When we consider all above problems, we could illustrate the data in an information map where the district of Paris, the Moroccan restaurant and its neighborhood are clustered according to the venue density.\n",
    "\n",
    "The aim of this project is to find the best borough out of 20 boroughs to open a **Moroccan Restaurant** in Paris, France. \n",
    "\n",
    "The target audience of this report is anyone who is interested in opening a Moroccan restaurant but have no idea about the location.\n",
    "\n",
    "\n",
    "# 2. Data Description\n",
    "\n",
    "##### Data Requirements:\n",
    "\n",
    "The main districts in Paris are divided into 20 administrative districts, shortened to arrondissements.\n",
    "\n",
    "The data regarding the districts in Paris needs to be researched and a suitable useable source identified. If it is found but is not in a useable form, data wrangling and cleaning will have to be performed.\n",
    "\n",
    "The cleansed data will then be used alongside Foursquare data, which is readily available. Foursquare location data will be leveraged to explore or compare districts around Paris, identifying the ideal district to open a Moroccan restaurant in Paris. \n",
    "\n",
    "Data for the arrondissements is necessary to select the most suitable of these areas for new Moroccan restaurant.\n",
    "\n",
    "Initially looking to get this data by scraping the relevent Wikipedia page (https://en.wikipedia.org/wiki/Arrondissements_of_Paris), fortunately, after much research, this data is available on the web and can be manipulated and cleansed to provide a meaningful dataset to use.\n",
    "\n",
    "Data from Open|DATA France: https://opendata.paris.fr/explore/dataset/arrondissements/table/?dataChart\n",
    "\n",
    "Also available from Opendatasoft: https://data.opendatasoft.com/explore/dataset/arrondissements%40parisdata/export/\n",
    "\n",
    "##### The Data Science Workflow:\n",
    "\n",
    "* Outline the initial data that is required:\n",
    "     - District data for Paris including names, location data if available, and any other details required.\n",
    "\n",
    "* Obtain the Data:\n",
    "     - Research and find suitable sources for the district data for Paris.\n",
    "     - Access and explore the data to determine if it can be manipulated for our purposes.\n",
    "\n",
    "* Initial Data Wrangling and Cleaning:\n",
    "     - Clean the data and convert to a useable form as a dataframe.\n",
    "\n",
    "* Data Analysis and Location Data:\n",
    "\n",
    "    - Foursquare location data will be leveraged to explore or compare districts around Paris.\n",
    "    - Data manipulation and analysis to derive subsets of the initial data.\n",
    "    - Explore, segment and using *K*-Means as part of this clustering study to cluster the neighborhoods in the city of Paris based on the top 10 venues for each neighborhood district. Moreover, we use the Elbow method to find out the optimal number of clusters for *K*-Means clustering.\n",
    "\n",
    "* Visualization:\n",
    "\n",
    "    - Use python folium package to visualize geographic details of Paris and its district neighborhood which are superimposed on top. \n",
    "    - Analyze the clustering results and then propose the ideal districts to open a Moroccan restaurant in Paris. And, we give some perspectives to enhance the performances.\n",
    "\n",
    "\n",
    "# References <a name=\"references\"></a>\n",
    "\n",
    "[1] Paris population, https://www.worldometers.info/world-population/france-population/\n",
    "\n",
    "[2] The Economist Intelligence Unit, https://www.eiu.com/n/campaigns/worldwide-cost-of-living-2020"
   ]
  },
  {
   "cell_type": "code",
   "execution_count": null,
   "metadata": {},
   "outputs": [],
   "source": []
  }
 ],
 "metadata": {
  "kernelspec": {
   "display_name": "Python 3.6",
   "language": "python",
   "name": "python3"
  },
  "language_info": {
   "codemirror_mode": {
    "name": "ipython",
    "version": 3
   },
   "file_extension": ".py",
   "mimetype": "text/x-python",
   "name": "python",
   "nbconvert_exporter": "python",
   "pygments_lexer": "ipython3",
   "version": "3.6.9"
  }
 },
 "nbformat": 4,
 "nbformat_minor": 1
}
